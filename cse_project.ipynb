{
 "cells": [
  {
   "cell_type": "code",
   "execution_count": 1,
   "id": "3fbbf33c-c1cb-4ab8-b2da-1b5a4f49f3b3",
   "metadata": {
    "execution": {
     "iopub.execute_input": "2022-03-27T21:35:57.792600Z",
     "iopub.status.busy": "2022-03-27T21:35:57.792324Z",
     "iopub.status.idle": "2022-03-27T21:36:39.906672Z",
     "shell.execute_reply": "2022-03-27T21:36:39.905776Z",
     "shell.execute_reply.started": "2022-03-27T21:35:57.792566Z"
    }
   },
   "outputs": [
    {
     "data": {
      "application/vnd.jupyter.widget-view+json": {
       "model_id": "7d02b336360a4d96b56f157db1891d5c",
       "version_major": 2,
       "version_minor": 0
      },
      "text/plain": [
       "VBox()"
      ]
     },
     "metadata": {},
     "output_type": "display_data"
    },
    {
     "name": "stdout",
     "output_type": "stream",
     "text": [
      "Starting Spark application\n"
     ]
    },
    {
     "data": {
      "text/html": [
       "<table>\n",
       "<tr><th>ID</th><th>YARN Application ID</th><th>Kind</th><th>State</th><th>Spark UI</th><th>Driver log</th><th>User</th><th>Current session?</th></tr><tr><td>0</td><td>application_1648416751348_0001</td><td>pyspark</td><td>idle</td><td><a target=\"_blank\" href=\"http://ip-172-31-79-103.ec2.internal:20888/proxy/application_1648416751348_0001/\" class=\"emr-proxy-link\" emr-resource=\"j-46YJOHV55HIE\n",
       "\" application-id=\"application_1648416751348_0001\">Link</a></td><td><a target=\"_blank\" href=\"http://ip-172-31-74-75.ec2.internal:8042/node/containerlogs/container_1648416751348_0001_01_000001/livy\" >Link</a></td><td>None</td><td>✔</td></tr></table>"
      ],
      "text/plain": [
       "<IPython.core.display.HTML object>"
      ]
     },
     "metadata": {},
     "output_type": "display_data"
    },
    {
     "data": {
      "application/vnd.jupyter.widget-view+json": {
       "model_id": "",
       "version_major": 2,
       "version_minor": 0
      },
      "text/plain": [
       "FloatProgress(value=0.0, bar_style='info', description='Progress:', layout=Layout(height='25px', width='50%'),…"
      ]
     },
     "metadata": {},
     "output_type": "display_data"
    },
    {
     "name": "stdout",
     "output_type": "stream",
     "text": [
      "SparkSession available as 'spark'.\n"
     ]
    },
    {
     "data": {
      "application/vnd.jupyter.widget-view+json": {
       "model_id": "",
       "version_major": 2,
       "version_minor": 0
      },
      "text/plain": [
       "FloatProgress(value=0.0, bar_style='info', description='Progress:', layout=Layout(height='25px', width='50%'),…"
      ]
     },
     "metadata": {},
     "output_type": "display_data"
    },
    {
     "name": "stdout",
     "output_type": "stream",
     "text": [
      "<SparkContext master=yarn appName=livy-session-0>"
     ]
    }
   ],
   "source": [
    "sc"
   ]
  },
  {
   "cell_type": "code",
   "execution_count": 2,
   "id": "d4de313e-1b4f-42ca-9359-694978931c5c",
   "metadata": {
    "execution": {
     "iopub.execute_input": "2022-03-27T21:36:39.908316Z",
     "iopub.status.busy": "2022-03-27T21:36:39.908086Z",
     "iopub.status.idle": "2022-03-27T21:36:40.255337Z",
     "shell.execute_reply": "2022-03-27T21:36:40.254182Z",
     "shell.execute_reply.started": "2022-03-27T21:36:39.908283Z"
    }
   },
   "outputs": [
    {
     "data": {
      "application/vnd.jupyter.widget-view+json": {
       "model_id": "36d4deadbe56410782bbde89918e9074",
       "version_major": 2,
       "version_minor": 0
      },
      "text/plain": [
       "VBox()"
      ]
     },
     "metadata": {},
     "output_type": "display_data"
    },
    {
     "data": {
      "application/vnd.jupyter.widget-view+json": {
       "model_id": "",
       "version_major": 2,
       "version_minor": 0
      },
      "text/plain": [
       "FloatProgress(value=0.0, bar_style='info', description='Progress:', layout=Layout(height='25px', width='50%'),…"
      ]
     },
     "metadata": {},
     "output_type": "display_data"
    }
   ],
   "source": [
    "#export\n",
    "from pyspark.sql.functions import col\n",
    "from pyspark.sql import *"
   ]
  },
  {
   "cell_type": "code",
   "execution_count": null,
   "id": "dddbbf48-fe8d-4aa9-9941-8c6702527d25",
   "metadata": {
    "execution": {
     "iopub.execute_input": "2022-03-27T21:57:40.826780Z",
     "iopub.status.busy": "2022-03-27T21:57:40.826485Z"
    },
    "tags": []
   },
   "outputs": [
    {
     "data": {
      "application/vnd.jupyter.widget-view+json": {
       "model_id": "d01652428f4445e2a39f76dbfcf0ae74",
       "version_major": 2,
       "version_minor": 0
      },
      "text/plain": [
       "VBox()"
      ]
     },
     "metadata": {},
     "output_type": "display_data"
    },
    {
     "data": {
      "application/vnd.jupyter.widget-view+json": {
       "model_id": "",
       "version_major": 2,
       "version_minor": 0
      },
      "text/plain": [
       "FloatProgress(value=0.0, bar_style='info', description='Progress:', layout=Layout(height='25px', width='50%'),…"
      ]
     },
     "metadata": {},
     "output_type": "display_data"
    }
   ],
   "source": [
    "input_bucket = \"s3://athenacse6242/\"\n",
    "df = spark.read.csv(input_bucket + \"crimes.csv\", header=True, inferSchema=True)\n",
    "df1 = df"
   ]
  },
  {
   "cell_type": "code",
   "execution_count": 35,
   "id": "74413e73-bba5-4f1a-9037-bcf9501f39b3",
   "metadata": {
    "execution": {
     "iopub.execute_input": "2022-03-27T21:58:17.354795Z",
     "iopub.status.busy": "2022-03-27T21:58:17.354510Z",
     "iopub.status.idle": "2022-03-27T21:58:17.432362Z",
     "shell.execute_reply": "2022-03-27T21:58:17.431494Z",
     "shell.execute_reply.started": "2022-03-27T21:58:17.354761Z"
    },
    "tags": []
   },
   "outputs": [
    {
     "data": {
      "application/vnd.jupyter.widget-view+json": {
       "model_id": "28e2e056f87a439ca151de83e8be2095",
       "version_major": 2,
       "version_minor": 0
      },
      "text/plain": [
       "VBox()"
      ]
     },
     "metadata": {},
     "output_type": "display_data"
    },
    {
     "data": {
      "application/vnd.jupyter.widget-view+json": {
       "model_id": "",
       "version_major": 2,
       "version_minor": 0
      },
      "text/plain": [
       "FloatProgress(value=0.0, bar_style='info', description='Progress:', layout=Layout(height='25px', width='50%'),…"
      ]
     },
     "metadata": {},
     "output_type": "display_data"
    }
   ],
   "source": [
    "from pyspark.sql.functions import col,isnan, when, count"
   ]
  },
  {
   "cell_type": "code",
   "execution_count": 36,
   "id": "38abe6ad-5738-4243-9421-00ae30d06c95",
   "metadata": {
    "execution": {
     "iopub.execute_input": "2022-03-27T21:58:18.066812Z",
     "iopub.status.busy": "2022-03-27T21:58:18.066544Z",
     "iopub.status.idle": "2022-03-27T21:58:18.864039Z",
     "shell.execute_reply": "2022-03-27T21:58:18.863031Z",
     "shell.execute_reply.started": "2022-03-27T21:58:18.066780Z"
    },
    "tags": []
   },
   "outputs": [
    {
     "data": {
      "application/vnd.jupyter.widget-view+json": {
       "model_id": "3e8d468b96634fbfb4ce62ba547aadbc",
       "version_major": 2,
       "version_minor": 0
      },
      "text/plain": [
       "VBox()"
      ]
     },
     "metadata": {},
     "output_type": "display_data"
    },
    {
     "data": {
      "application/vnd.jupyter.widget-view+json": {
       "model_id": "",
       "version_major": 2,
       "version_minor": 0
      },
      "text/plain": [
       "FloatProgress(value=0.0, bar_style='info', description='Progress:', layout=Layout(height='25px', width='50%'),…"
      ]
     },
     "metadata": {},
     "output_type": "display_data"
    },
    {
     "name": "stdout",
     "output_type": "stream",
     "text": [
      "[Row(ID=10224738, Case Number='HY411648', Date='09/05/2015 01:30:00 PM', Block='043XX S WOOD ST', IUCR='0486', Primary Type='BATTERY', Description='DOMESTIC BATTERY SIMPLE', Location Description='RESIDENCE', Arrest=False, Domestic=True, Beat=924, District=9, Ward=12, Community Area=61, FBI Code='08B', x_coordinate=1165074, y_coordinate=1875917, Year=2015, Updated On='02/10/2018 03:50:01 PM', Latitude=41.815117282, Longitude=-87.669999562, Location='(41.815117282, -87.669999562)')]"
     ]
    }
   ],
   "source": [
    "df1.head(1)"
   ]
  },
  {
   "cell_type": "code",
   "execution_count": 37,
   "id": "de78bd16-d36d-4f00-b38d-39da1bf8c4a0",
   "metadata": {
    "execution": {
     "iopub.execute_input": "2022-03-27T21:58:21.091911Z",
     "iopub.status.busy": "2022-03-27T21:58:21.091621Z",
     "iopub.status.idle": "2022-03-27T21:58:21.195060Z",
     "shell.execute_reply": "2022-03-27T21:58:21.194231Z",
     "shell.execute_reply.started": "2022-03-27T21:58:21.091878Z"
    },
    "tags": []
   },
   "outputs": [
    {
     "data": {
      "application/vnd.jupyter.widget-view+json": {
       "model_id": "ad7d71ef0dad4e77af15794854fb6356",
       "version_major": 2,
       "version_minor": 0
      },
      "text/plain": [
       "VBox()"
      ]
     },
     "metadata": {},
     "output_type": "display_data"
    },
    {
     "data": {
      "application/vnd.jupyter.widget-view+json": {
       "model_id": "",
       "version_major": 2,
       "version_minor": 0
      },
      "text/plain": [
       "FloatProgress(value=0.0, bar_style='info', description='Progress:', layout=Layout(height='25px', width='50%'),…"
      ]
     },
     "metadata": {},
     "output_type": "display_data"
    }
   ],
   "source": [
    "df1 = df1.withColumnRenamed('X Coordinate','x_coordinate')\n",
    "df1 = df1.withColumnRenamed('Y Coordinate','y_coordinate')"
   ]
  },
  {
   "cell_type": "code",
   "execution_count": 38,
   "id": "7bc4915b-3bf0-4f96-81bc-d70ae12cfb8e",
   "metadata": {
    "execution": {
     "iopub.execute_input": "2022-03-27T21:58:23.839406Z",
     "iopub.status.busy": "2022-03-27T21:58:23.839106Z",
     "iopub.status.idle": "2022-03-27T21:58:33.229213Z",
     "shell.execute_reply": "2022-03-27T21:58:33.228200Z",
     "shell.execute_reply.started": "2022-03-27T21:58:23.839373Z"
    },
    "tags": []
   },
   "outputs": [
    {
     "data": {
      "application/vnd.jupyter.widget-view+json": {
       "model_id": "1d178f0ed4334a80a565d1a9ed7e8494",
       "version_major": 2,
       "version_minor": 0
      },
      "text/plain": [
       "VBox()"
      ]
     },
     "metadata": {},
     "output_type": "display_data"
    },
    {
     "data": {
      "application/vnd.jupyter.widget-view+json": {
       "model_id": "",
       "version_major": 2,
       "version_minor": 0
      },
      "text/plain": [
       "FloatProgress(value=0.0, bar_style='info', description='Progress:', layout=Layout(height='25px', width='50%'),…"
      ]
     },
     "metadata": {},
     "output_type": "display_data"
    },
    {
     "name": "stdout",
     "output_type": "stream",
     "text": [
      "78235"
     ]
    }
   ],
   "source": [
    "df1.filter(df1.Latitude.isNull()).count()\n",
    "#There are 78235 values as NaN"
   ]
  },
  {
   "cell_type": "code",
   "execution_count": 39,
   "id": "3beffc9d-2cc1-4eaf-9e80-5387ec9a4a7e",
   "metadata": {
    "execution": {
     "iopub.execute_input": "2022-03-27T22:00:01.507466Z",
     "iopub.status.busy": "2022-03-27T22:00:01.507189Z",
     "iopub.status.idle": "2022-03-27T22:00:01.599959Z",
     "shell.execute_reply": "2022-03-27T22:00:01.598976Z",
     "shell.execute_reply.started": "2022-03-27T22:00:01.507433Z"
    },
    "tags": []
   },
   "outputs": [
    {
     "data": {
      "application/vnd.jupyter.widget-view+json": {
       "model_id": "45b100a4f3be48959f8267a276eac3b8",
       "version_major": 2,
       "version_minor": 0
      },
      "text/plain": [
       "VBox()"
      ]
     },
     "metadata": {},
     "output_type": "display_data"
    },
    {
     "data": {
      "application/vnd.jupyter.widget-view+json": {
       "model_id": "",
       "version_major": 2,
       "version_minor": 0
      },
      "text/plain": [
       "FloatProgress(value=0.0, bar_style='info', description='Progress:', layout=Layout(height='25px', width='50%'),…"
      ]
     },
     "metadata": {},
     "output_type": "display_data"
    }
   ],
   "source": [
    "# Total dataset consists of 7,509,990 columns, approximately 10% (78235) of the column have NaN.\n",
    "df1 = df.na.drop()"
   ]
  },
  {
   "cell_type": "code",
   "execution_count": 40,
   "id": "f67f7fb4-e346-4119-972b-eb686f680d79",
   "metadata": {
    "execution": {
     "iopub.execute_input": "2022-03-27T22:00:04.328470Z",
     "iopub.status.busy": "2022-03-27T22:00:04.328198Z",
     "iopub.status.idle": "2022-03-27T22:00:29.731222Z",
     "shell.execute_reply": "2022-03-27T22:00:29.730370Z",
     "shell.execute_reply.started": "2022-03-27T22:00:04.328437Z"
    },
    "tags": []
   },
   "outputs": [
    {
     "data": {
      "application/vnd.jupyter.widget-view+json": {
       "model_id": "027257bebf3b470393b9e88012f4da13",
       "version_major": 2,
       "version_minor": 0
      },
      "text/plain": [
       "VBox()"
      ]
     },
     "metadata": {},
     "output_type": "display_data"
    },
    {
     "data": {
      "application/vnd.jupyter.widget-view+json": {
       "model_id": "",
       "version_major": 2,
       "version_minor": 0
      },
      "text/plain": [
       "FloatProgress(value=0.0, bar_style='info', description='Progress:', layout=Layout(height='25px', width='50%'),…"
      ]
     },
     "metadata": {},
     "output_type": "display_data"
    },
    {
     "name": "stdout",
     "output_type": "stream",
     "text": [
      "0"
     ]
    }
   ],
   "source": [
    "df1.filter(df1.Latitude.isNull()).count()"
   ]
  },
  {
   "cell_type": "code",
   "execution_count": null,
   "id": "a835c22d-14dc-49c3-bb18-b100be8f2a49",
   "metadata": {},
   "outputs": [],
   "source": []
  }
 ],
 "metadata": {
  "kernelspec": {
   "display_name": "PySpark",
   "language": "python",
   "name": "pysparkkernel"
  },
  "language_info": {
   "codemirror_mode": {
    "name": "python",
    "version": 3
   },
   "file_extension": ".py",
   "mimetype": "text/x-python",
   "name": "pyspark",
   "pygments_lexer": "python3"
  }
 },
 "nbformat": 4,
 "nbformat_minor": 5
}
