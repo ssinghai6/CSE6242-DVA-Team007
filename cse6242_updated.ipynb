{
 "cells": [
  {
   "cell_type": "code",
   "execution_count": 1,
   "id": "95a1ee80-e40b-4e9a-83ca-b38062227548",
   "metadata": {
    "execution": {
     "iopub.execute_input": "2022-03-28T19:55:05.752094Z",
     "iopub.status.busy": "2022-03-28T19:55:05.751806Z",
     "iopub.status.idle": "2022-03-28T19:55:42.626623Z",
     "shell.execute_reply": "2022-03-28T19:55:42.625705Z",
     "shell.execute_reply.started": "2022-03-28T19:55:05.752047Z"
    },
    "tags": []
   },
   "outputs": [
    {
     "data": {
      "application/vnd.jupyter.widget-view+json": {
       "model_id": "42b2923173ce4f76bbf6e887c4064c76",
       "version_major": 2,
       "version_minor": 0
      },
      "text/plain": [
       "VBox()"
      ]
     },
     "metadata": {},
     "output_type": "display_data"
    },
    {
     "name": "stdout",
     "output_type": "stream",
     "text": [
      "Starting Spark application\n"
     ]
    },
    {
     "data": {
      "text/html": [
       "<table>\n",
       "<tr><th>ID</th><th>YARN Application ID</th><th>Kind</th><th>State</th><th>Spark UI</th><th>Driver log</th><th>User</th><th>Current session?</th></tr><tr><td>1</td><td>application_1648495907220_0002</td><td>pyspark</td><td>idle</td><td><a target=\"_blank\" href=\"http://ip-172-31-54-156.ec2.internal:20888/proxy/application_1648495907220_0002/\" class=\"emr-proxy-link\" emr-resource=\"j-32ZXJ4U1XM95P\n",
       "\" application-id=\"application_1648495907220_0002\">Link</a></td><td><a target=\"_blank\" href=\"http://ip-172-31-63-140.ec2.internal:8042/node/containerlogs/container_1648495907220_0002_01_000001/livy\" >Link</a></td><td>None</td><td>✔</td></tr></table>"
      ],
      "text/plain": [
       "<IPython.core.display.HTML object>"
      ]
     },
     "metadata": {},
     "output_type": "display_data"
    },
    {
     "data": {
      "application/vnd.jupyter.widget-view+json": {
       "model_id": "",
       "version_major": 2,
       "version_minor": 0
      },
      "text/plain": [
       "FloatProgress(value=0.0, bar_style='info', description='Progress:', layout=Layout(height='25px', width='50%'),…"
      ]
     },
     "metadata": {},
     "output_type": "display_data"
    },
    {
     "name": "stdout",
     "output_type": "stream",
     "text": [
      "SparkSession available as 'spark'.\n"
     ]
    },
    {
     "data": {
      "application/vnd.jupyter.widget-view+json": {
       "model_id": "",
       "version_major": 2,
       "version_minor": 0
      },
      "text/plain": [
       "FloatProgress(value=0.0, bar_style='info', description='Progress:', layout=Layout(height='25px', width='50%'),…"
      ]
     },
     "metadata": {},
     "output_type": "display_data"
    },
    {
     "name": "stdout",
     "output_type": "stream",
     "text": [
      "<SparkContext master=yarn appName=livy-session-1>"
     ]
    }
   ],
   "source": [
    "sc"
   ]
  },
  {
   "cell_type": "code",
   "execution_count": 61,
   "id": "b2450b8d-7e4d-4677-89ed-02a72a45d85b",
   "metadata": {
    "execution": {
     "iopub.execute_input": "2022-03-28T21:03:39.747211Z",
     "iopub.status.busy": "2022-03-28T21:03:39.746783Z",
     "iopub.status.idle": "2022-03-28T21:03:39.849475Z",
     "shell.execute_reply": "2022-03-28T21:03:39.848252Z",
     "shell.execute_reply.started": "2022-03-28T21:03:39.747158Z"
    },
    "tags": []
   },
   "outputs": [
    {
     "data": {
      "application/vnd.jupyter.widget-view+json": {
       "model_id": "5c054f231a734462b25b256e07ff11c0",
       "version_major": 2,
       "version_minor": 0
      },
      "text/plain": [
       "VBox()"
      ]
     },
     "metadata": {},
     "output_type": "display_data"
    },
    {
     "data": {
      "application/vnd.jupyter.widget-view+json": {
       "model_id": "",
       "version_major": 2,
       "version_minor": 0
      },
      "text/plain": [
       "FloatProgress(value=0.0, bar_style='info', description='Progress:', layout=Layout(height='25px', width='50%'),…"
      ]
     },
     "metadata": {},
     "output_type": "display_data"
    }
   ],
   "source": [
    "#export\n",
    "from pyspark.sql.functions import col,substring, hour\n",
    "from pyspark.sql import *\n"
   ]
  },
  {
   "cell_type": "code",
   "execution_count": 3,
   "id": "339ff4db-4b28-4778-aa16-d861f323a9b9",
   "metadata": {
    "execution": {
     "iopub.execute_input": "2022-03-28T19:55:42.747699Z",
     "iopub.status.busy": "2022-03-28T19:55:42.747027Z",
     "iopub.status.idle": "2022-03-28T19:56:06.548695Z",
     "shell.execute_reply": "2022-03-28T19:56:06.547705Z",
     "shell.execute_reply.started": "2022-03-28T19:55:42.747649Z"
    },
    "tags": []
   },
   "outputs": [
    {
     "data": {
      "application/vnd.jupyter.widget-view+json": {
       "model_id": "7a33ea0ed9284952b97f7ee2021a237d",
       "version_major": 2,
       "version_minor": 0
      },
      "text/plain": [
       "VBox()"
      ]
     },
     "metadata": {},
     "output_type": "display_data"
    },
    {
     "data": {
      "application/vnd.jupyter.widget-view+json": {
       "model_id": "",
       "version_major": 2,
       "version_minor": 0
      },
      "text/plain": [
       "FloatProgress(value=0.0, bar_style='info', description='Progress:', layout=Layout(height='25px', width='50%'),…"
      ]
     },
     "metadata": {},
     "output_type": "display_data"
    }
   ],
   "source": [
    "input_bucket = \"s3://sanshritcse6242/\"\n",
    "df = spark.read.csv(input_bucket + \"crime.csv\", header=True, inferSchema=True)\n",
    "df1 = df"
   ]
  },
  {
   "cell_type": "code",
   "execution_count": 4,
   "id": "21271504-36a7-43eb-9011-9b55022b48a4",
   "metadata": {
    "execution": {
     "iopub.execute_input": "2022-03-28T19:56:06.550942Z",
     "iopub.status.busy": "2022-03-28T19:56:06.550607Z",
     "iopub.status.idle": "2022-03-28T19:56:06.659301Z",
     "shell.execute_reply": "2022-03-28T19:56:06.658239Z",
     "shell.execute_reply.started": "2022-03-28T19:56:06.550894Z"
    },
    "tags": []
   },
   "outputs": [
    {
     "data": {
      "application/vnd.jupyter.widget-view+json": {
       "model_id": "47552557be7845a68f06d23bb1945ea9",
       "version_major": 2,
       "version_minor": 0
      },
      "text/plain": [
       "VBox()"
      ]
     },
     "metadata": {},
     "output_type": "display_data"
    },
    {
     "data": {
      "application/vnd.jupyter.widget-view+json": {
       "model_id": "",
       "version_major": 2,
       "version_minor": 0
      },
      "text/plain": [
       "FloatProgress(value=0.0, bar_style='info', description='Progress:', layout=Layout(height='25px', width='50%'),…"
      ]
     },
     "metadata": {},
     "output_type": "display_data"
    }
   ],
   "source": [
    "from pyspark.sql.functions import col,isnan, when, count"
   ]
  },
  {
   "cell_type": "code",
   "execution_count": 8,
   "id": "9474b46c-ae2e-4eda-969e-f8334dfa944b",
   "metadata": {
    "execution": {
     "iopub.execute_input": "2022-03-28T19:56:17.170749Z",
     "iopub.status.busy": "2022-03-28T19:56:17.170054Z",
     "iopub.status.idle": "2022-03-28T19:56:17.488579Z",
     "shell.execute_reply": "2022-03-28T19:56:17.487695Z",
     "shell.execute_reply.started": "2022-03-28T19:56:17.170699Z"
    },
    "tags": []
   },
   "outputs": [
    {
     "data": {
      "application/vnd.jupyter.widget-view+json": {
       "model_id": "8335f3ac6fa84178a0b5fd0a4f1677d0",
       "version_major": 2,
       "version_minor": 0
      },
      "text/plain": [
       "VBox()"
      ]
     },
     "metadata": {},
     "output_type": "display_data"
    },
    {
     "data": {
      "application/vnd.jupyter.widget-view+json": {
       "model_id": "",
       "version_major": 2,
       "version_minor": 0
      },
      "text/plain": [
       "FloatProgress(value=0.0, bar_style='info', description='Progress:', layout=Layout(height='25px', width='50%'),…"
      ]
     },
     "metadata": {},
     "output_type": "display_data"
    }
   ],
   "source": [
    "# Total dataset consists of 7,509,990 columns, approximately 10% (78235) of the column have NaN.\n",
    "df1 = df.na.drop()"
   ]
  },
  {
   "cell_type": "code",
   "execution_count": 50,
   "id": "e865edca-fbd6-49c0-a0ad-3ba5d6ebf53a",
   "metadata": {
    "execution": {
     "iopub.execute_input": "2022-03-28T20:48:07.715557Z",
     "iopub.status.busy": "2022-03-28T20:48:07.715212Z",
     "iopub.status.idle": "2022-03-28T20:48:07.842909Z",
     "shell.execute_reply": "2022-03-28T20:48:07.841550Z",
     "shell.execute_reply.started": "2022-03-28T20:48:07.715524Z"
    }
   },
   "outputs": [
    {
     "data": {
      "application/vnd.jupyter.widget-view+json": {
       "model_id": "6dbff446bd3248a3a9aff2cb966f69d8",
       "version_major": 2,
       "version_minor": 0
      },
      "text/plain": [
       "VBox()"
      ]
     },
     "metadata": {},
     "output_type": "display_data"
    },
    {
     "data": {
      "application/vnd.jupyter.widget-view+json": {
       "model_id": "",
       "version_major": 2,
       "version_minor": 0
      },
      "text/plain": [
       "FloatProgress(value=0.0, bar_style='info', description='Progress:', layout=Layout(height='25px', width='50%'),…"
      ]
     },
     "metadata": {},
     "output_type": "display_data"
    }
   ],
   "source": [
    "df1 = df1.withColumnRenamed('Community Area','community_area')\n",
    "df1 = df1.withColumnRenamed('X Coordinate','x_coordinate')\n",
    "df1 = df1.withColumnRenamed('Y Coordinate','y_coordinate')"
   ]
  },
  {
   "cell_type": "code",
   "execution_count": 55,
   "id": "8f2efa31-3888-4f21-9122-cd54939647ee",
   "metadata": {
    "execution": {
     "iopub.execute_input": "2022-03-28T20:50:45.775424Z",
     "iopub.status.busy": "2022-03-28T20:50:45.775151Z",
     "iopub.status.idle": "2022-03-28T20:50:46.124181Z",
     "shell.execute_reply": "2022-03-28T20:50:46.123447Z",
     "shell.execute_reply.started": "2022-03-28T20:50:45.775393Z"
    },
    "tags": []
   },
   "outputs": [
    {
     "data": {
      "application/vnd.jupyter.widget-view+json": {
       "model_id": "b857eec012df476b86f5a2b212345879",
       "version_major": 2,
       "version_minor": 0
      },
      "text/plain": [
       "VBox()"
      ]
     },
     "metadata": {},
     "output_type": "display_data"
    },
    {
     "data": {
      "application/vnd.jupyter.widget-view+json": {
       "model_id": "",
       "version_major": 2,
       "version_minor": 0
      },
      "text/plain": [
       "FloatProgress(value=0.0, bar_style='info', description='Progress:', layout=Layout(height='25px', width='50%'),…"
      ]
     },
     "metadata": {},
     "output_type": "display_data"
    }
   ],
   "source": [
    "# created new dataframe with selected features\n",
    "df1_edited = df1.select('Block','Date','Beat','District','Ward','community_area','x_coordinate','y_coordinate','Year','Latitude','Longitude','Location',substring('Block',7,100)).drop(df.Block)\n",
    "# sliced the column Block excluding the first 6 characters- Eg: \"090XX S STONY ISLAND AVE\" to \"S STONY ISLAND AVE\"\n",
    "df1_edited = df1_edited.withColumnRenamed('substring(Block, 7, 100)','Block')\n",
    "#df1_edited is the clean dataset"
   ]
  },
  {
   "cell_type": "code",
   "execution_count": null,
   "id": "5573de5c-c6bd-418e-8776-9c6d15c511e8",
   "metadata": {},
   "outputs": [],
   "source": [
    "df_city1 = df1_edited.filter(df1.District == 1)"
   ]
  },
  {
   "cell_type": "code",
   "execution_count": 62,
   "id": "d3ac33d4-d2a7-480c-a0e5-aee4ae52f66c",
   "metadata": {
    "execution": {
     "iopub.execute_input": "2022-03-28T21:03:44.891556Z",
     "iopub.status.busy": "2022-03-28T21:03:44.891266Z",
     "iopub.status.idle": "2022-03-28T21:03:45.172372Z",
     "shell.execute_reply": "2022-03-28T21:03:45.171370Z",
     "shell.execute_reply.started": "2022-03-28T21:03:44.891522Z"
    },
    "tags": []
   },
   "outputs": [
    {
     "data": {
      "application/vnd.jupyter.widget-view+json": {
       "model_id": "1eab1d9e1d3545fbab7738c0f7771cf1",
       "version_major": 2,
       "version_minor": 0
      },
      "text/plain": [
       "VBox()"
      ]
     },
     "metadata": {},
     "output_type": "display_data"
    },
    {
     "data": {
      "application/vnd.jupyter.widget-view+json": {
       "model_id": "",
       "version_major": 2,
       "version_minor": 0
      },
      "text/plain": [
       "FloatProgress(value=0.0, bar_style='info', description='Progress:', layout=Layout(height='25px', width='50%'),…"
      ]
     },
     "metadata": {},
     "output_type": "display_data"
    }
   ],
   "source": [
    "df1_dis_crimerate = df1_edited.groupBy(\"District\",hour(df1_edited.Date)).count()\n"
   ]
  },
  {
   "cell_type": "code",
   "execution_count": 63,
   "id": "d2ba657d-3ce5-4a76-bc3d-b4127d8ed32b",
   "metadata": {
    "execution": {
     "iopub.execute_input": "2022-03-28T21:03:52.159660Z",
     "iopub.status.busy": "2022-03-28T21:03:52.159381Z",
     "iopub.status.idle": "2022-03-28T21:04:20.516959Z",
     "shell.execute_reply": "2022-03-28T21:04:20.479540Z",
     "shell.execute_reply.started": "2022-03-28T21:03:52.159619Z"
    },
    "tags": []
   },
   "outputs": [
    {
     "data": {
      "application/vnd.jupyter.widget-view+json": {
       "model_id": "7d0581af232f45d4b0215f45158e1532",
       "version_major": 2,
       "version_minor": 0
      },
      "text/plain": [
       "VBox()"
      ]
     },
     "metadata": {},
     "output_type": "display_data"
    },
    {
     "data": {
      "application/vnd.jupyter.widget-view+json": {
       "model_id": "",
       "version_major": 2,
       "version_minor": 0
      },
      "text/plain": [
       "FloatProgress(value=0.0, bar_style='info', description='Progress:', layout=Layout(height='25px', width='50%'),…"
      ]
     },
     "metadata": {},
     "output_type": "display_data"
    },
    {
     "name": "stdout",
     "output_type": "stream",
     "text": [
      "+--------+----------+------+\n",
      "|District|hour(Date)| count|\n",
      "+--------+----------+------+\n",
      "|      12|      null|332945|\n",
      "|       1|      null|276105|\n",
      "|       6|      null|402524|\n",
      "|       3|      null|347246|\n",
      "|       4|      null|390677|\n",
      "|       8|      null|462329|\n",
      "|      11|      null|442522|\n",
      "|      31|      null|   173|\n",
      "|      19|      null|302062|\n",
      "|      21|      null|     4|\n",
      "|      14|      null|260254|\n",
      "|      16|      null|226608|\n",
      "|      20|      null|117910|\n",
      "|       5|      null|305101|\n",
      "|      15|      null|295627|\n",
      "|      25|      null|389498|\n",
      "|      24|      null|204004|\n",
      "|       2|      null|308173|\n",
      "|      18|      null|302415|\n",
      "|      17|      null|196082|\n",
      "|       7|      null|401237|\n",
      "|      22|      null|224880|\n",
      "|       9|      null|334443|\n",
      "|      10|      null|296326|\n",
      "+--------+----------+------+"
     ]
    }
   ],
   "source": [
    "df1_dis_crimerate.show(100)"
   ]
  },
  {
   "cell_type": "code",
   "execution_count": 26,
   "id": "347945ee-e8c2-4a59-a79a-a39dbda39810",
   "metadata": {
    "execution": {
     "iopub.execute_input": "2022-03-28T20:32:35.937394Z",
     "iopub.status.busy": "2022-03-28T20:32:35.937031Z",
     "iopub.status.idle": "2022-03-28T20:32:36.262771Z",
     "shell.execute_reply": "2022-03-28T20:32:36.261715Z",
     "shell.execute_reply.started": "2022-03-28T20:32:35.937343Z"
    }
   },
   "outputs": [
    {
     "data": {
      "application/vnd.jupyter.widget-view+json": {
       "model_id": "09fda6e6105e4984907b5624c4e2e0b3",
       "version_major": 2,
       "version_minor": 0
      },
      "text/plain": [
       "VBox()"
      ]
     },
     "metadata": {},
     "output_type": "display_data"
    },
    {
     "data": {
      "application/vnd.jupyter.widget-view+json": {
       "model_id": "",
       "version_major": 2,
       "version_minor": 0
      },
      "text/plain": [
       "FloatProgress(value=0.0, bar_style='info', description='Progress:', layout=Layout(height='25px', width='50%'),…"
      ]
     },
     "metadata": {},
     "output_type": "display_data"
    }
   ],
   "source": [
    "df_city1 = df1.filter(df1.District == 1)"
   ]
  },
  {
   "cell_type": "code",
   "execution_count": 46,
   "id": "2193d1a6-6291-408b-a214-db704b6a239c",
   "metadata": {
    "execution": {
     "iopub.execute_input": "2022-03-28T20:39:27.621437Z",
     "iopub.status.busy": "2022-03-28T20:39:27.621094Z",
     "iopub.status.idle": "2022-03-28T20:39:27.910998Z",
     "shell.execute_reply": "2022-03-28T20:39:27.909991Z",
     "shell.execute_reply.started": "2022-03-28T20:39:27.621404Z"
    },
    "tags": []
   },
   "outputs": [
    {
     "data": {
      "application/vnd.jupyter.widget-view+json": {
       "model_id": "3d78fd81e4f04707beb7c773bcdd0de6",
       "version_major": 2,
       "version_minor": 0
      },
      "text/plain": [
       "VBox()"
      ]
     },
     "metadata": {},
     "output_type": "display_data"
    },
    {
     "data": {
      "application/vnd.jupyter.widget-view+json": {
       "model_id": "",
       "version_major": 2,
       "version_minor": 0
      },
      "text/plain": [
       "FloatProgress(value=0.0, bar_style='info', description='Progress:', layout=Layout(height='25px', width='50%'),…"
      ]
     },
     "metadata": {},
     "output_type": "display_data"
    }
   ],
   "source": [
    "# Todo use window\n",
    "df_city1 = df_city1.select('Block',substring('Block',7,100))\n",
    "df_city1 = df_city1.withColumnRenamed('substring(Block, 7, 100)', 'New_Block')"
   ]
  }
 ],
 "metadata": {
  "kernelspec": {
   "display_name": "PySpark",
   "language": "python",
   "name": "pysparkkernel"
  },
  "language_info": {
   "codemirror_mode": {
    "name": "python",
    "version": 3
   },
   "file_extension": ".py",
   "mimetype": "text/x-python",
   "name": "pyspark",
   "pygments_lexer": "python3"
  }
 },
 "nbformat": 4,
 "nbformat_minor": 5
}
